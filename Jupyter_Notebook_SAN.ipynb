{
  "metadata": {
    "kernelspec": {
      "name": "python",
      "display_name": "Pyolite",
      "language": "python"
    },
    "language_info": {
      "codemirror_mode": {
        "name": "python",
        "version": 3
      },
      "file_extension": ".py",
      "mimetype": "text/x-python",
      "name": "python",
      "nbconvert_exporter": "python",
      "pygments_lexer": "ipython3",
      "version": "3.8"
    }
  },
  "nbformat_minor": 4,
  "nbformat": 4,
  "cells": [
    {
      "cell_type": "markdown",
      "source": "<center>\n    <img src=\"https://s3-api.us-geo.objectstorage.softlayer.net/cf-courses-data/CognitiveClass/Logos/organization_logo/organization_logo.png\" width=\"300\" alt=\"cognitiveclass.ai logo\"  />\n</center>\n",
      "metadata": {}
    },
    {
      "cell_type": "markdown",
      "source": "# My Jupyter Notebook on IBM Watson Studio",
      "metadata": {}
    },
    {
      "cell_type": "markdown",
      "source": "__Sangay Khandu__ \n\n Tester ",
      "metadata": {}
    },
    {
      "cell_type": "markdown",
      "source": "_I am interested in data science because Data is the future_",
      "metadata": {}
    },
    {
      "cell_type": "markdown",
      "source": "The below should print \"Hello world\"",
      "metadata": {}
    },
    {
      "cell_type": "code",
      "source": "print(\"Hello world\")",
      "metadata": {},
      "execution_count": 3,
      "outputs": [
        {
          "name": "stdout",
          "output_type": "stream",
          "text": "Hello world\n"
        }
      ]
    },
    {
      "cell_type": "markdown",
      "source": "1. one\n2. two\n⋅⋅* Digits. \n1. Sub one\n⋅⋅1. sub-list\n4. Four\n+ (https://www.google.com)\n\n| Name | Title |\n| ------ | ------ |\n| He | Mr |\n|Her | Ms ",
      "metadata": {}
    },
    {
      "cell_type": "code",
      "source": "",
      "metadata": {},
      "execution_count": null,
      "outputs": []
    }
  ]
}